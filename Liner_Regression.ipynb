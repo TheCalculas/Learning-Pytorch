{
  "nbformat": 4,
  "nbformat_minor": 0,
  "metadata": {
    "colab": {
      "provenance": [],
      "collapsed_sections": [
        "eXC-cF5LDNIt",
        "bw1kywczDZx_"
      ],
      "authorship_tag": "ABX9TyO4tNeMpTNkbuipluRnHmsi",
      "include_colab_link": true
    },
    "kernelspec": {
      "name": "python3",
      "display_name": "Python 3"
    },
    "language_info": {
      "name": "python"
    }
  },
  "cells": [
    {
      "cell_type": "markdown",
      "metadata": {
        "id": "view-in-github",
        "colab_type": "text"
      },
      "source": [
        "<a href=\"https://colab.research.google.com/github/TheCalculas/Learning-Pytorch/blob/main/Liner_Regression.ipynb\" target=\"_parent\"><img src=\"https://colab.research.google.com/assets/colab-badge.svg\" alt=\"Open In Colab\"/></a>"
      ]
    },
    {
      "cell_type": "markdown",
      "source": [
        "## Introduction to Linear Regression\n",
        "\n",
        "In this tutorial, we'll discuss one of the foundational algorithms in machine learning: *Linear regression*. We'll create a model that predicts crop yields for apples and oranges (*target variables*) by looking at the average temperature, rainfall, and humidity (*input variables or features*) in a region. Here's the training data:\n",
        "\n",
        "![linear-regression-training-data](https://i.imgur.com/6Ujttb4.png)\n",
        "\n",
        "In a linear regression model, each target variable is estimated to be a weighted sum of the input variables, offset by some constant, known as a bias :\n",
        "\n",
        "```\n",
        "yield_apple  = w11 * temp + w12 * rainfall + w13 * humidity + b1\n",
        "yield_orange = w21 * temp + w22 * rainfall + w23 * humidity + b2\n",
        "```\n",
        "\n",
        "Visually, it means that the yield of apples is a linear or planar function of temperature, rainfall and humidity:\n",
        "\n",
        "![linear-regression-graph](https://i.imgur.com/4DJ9f8X.png)"
      ],
      "metadata": {
        "id": "eXC-cF5LDNIt"
      }
    },
    {
      "cell_type": "code",
      "execution_count": 78,
      "metadata": {
        "id": "_pbYSiIGBTOv"
      },
      "outputs": [],
      "source": [
        "import numpy as np\n",
        "import torch"
      ]
    },
    {
      "cell_type": "markdown",
      "source": [
        "# Training Data"
      ],
      "metadata": {
        "id": "bw1kywczDZx_"
      }
    },
    {
      "cell_type": "code",
      "source": [
        "# Input (temp, rainfall, humidity)\n",
        "inputs = np.array([[73, 67, 43],\n",
        "                   [91, 88, 64],\n",
        "                   [87, 134, 58],\n",
        "                   [102, 43, 37],\n",
        "                   [69, 96, 70]], dtype='float32')"
      ],
      "metadata": {
        "id": "CY3BaL_FDKFN"
      },
      "execution_count": 79,
      "outputs": []
    },
    {
      "cell_type": "code",
      "source": [
        "# Targets (apples, oranges)\n",
        "targets = np.array([[56, 70],\n",
        "                    [81, 101],\n",
        "                    [119, 133],\n",
        "                    [22, 37],\n",
        "                    [103, 119]], dtype='float32')"
      ],
      "metadata": {
        "id": "7AzZYIGcDYBD"
      },
      "execution_count": 80,
      "outputs": []
    },
    {
      "cell_type": "markdown",
      "source": [
        "# Conversion into pytorch tensors"
      ],
      "metadata": {
        "id": "_r8H3bX1DhHa"
      }
    },
    {
      "cell_type": "code",
      "source": [
        "inputs = torch.from_numpy(inputs)\n",
        "targets = torch.from_numpy(targets)\n"
      ],
      "metadata": {
        "id": "kyX-cKOvDj49"
      },
      "execution_count": 81,
      "outputs": []
    },
    {
      "cell_type": "code",
      "source": [
        "print(inputs)"
      ],
      "metadata": {
        "colab": {
          "base_uri": "https://localhost:8080/"
        },
        "id": "yVJIGecODr9J",
        "outputId": "90a1a8f6-5e06-438f-e7df-a3638364213a"
      },
      "execution_count": 82,
      "outputs": [
        {
          "output_type": "stream",
          "name": "stdout",
          "text": [
            "tensor([[ 73.,  67.,  43.],\n",
            "        [ 91.,  88.,  64.],\n",
            "        [ 87., 134.,  58.],\n",
            "        [102.,  43.,  37.],\n",
            "        [ 69.,  96.,  70.]])\n"
          ]
        }
      ]
    },
    {
      "cell_type": "code",
      "source": [
        "print(targets)"
      ],
      "metadata": {
        "colab": {
          "base_uri": "https://localhost:8080/"
        },
        "id": "5CJaLdWCEA5o",
        "outputId": "71fc33a7-a333-45ae-98d8-8533d26908e9"
      },
      "execution_count": 83,
      "outputs": [
        {
          "output_type": "stream",
          "name": "stdout",
          "text": [
            "tensor([[ 56.,  70.],\n",
            "        [ 81., 101.],\n",
            "        [119., 133.],\n",
            "        [ 22.,  37.],\n",
            "        [103., 119.]])\n"
          ]
        }
      ]
    },
    {
      "cell_type": "markdown",
      "source": [
        "## Linear regression manually"
      ],
      "metadata": {
        "id": "-1MzCT71EX9C"
      }
    },
    {
      "cell_type": "code",
      "source": [
        "weights = torch.randn(2, 3, requires_grad=True) # CREATES A 2X3 MATRIX WITH 2 ROWS AND 3 COLUMNS HAVING WEATHER, TEMP, HUMIDITY\n",
        "bias = torch.randn(2, requires_grad=True) # CREATES A 2 ROW BIAS FOR THE SAME\n",
        "\n",
        "print(weights)\n",
        "print(bias)"
      ],
      "metadata": {
        "colab": {
          "base_uri": "https://localhost:8080/"
        },
        "id": "ekFSgxp2EHR7",
        "outputId": "e6455835-d9ca-445f-9d15-e0d48af80fbd"
      },
      "execution_count": 84,
      "outputs": [
        {
          "output_type": "stream",
          "name": "stdout",
          "text": [
            "tensor([[ 0.0919, -0.2702,  0.4919],\n",
            "        [ 1.6818,  1.0951, -0.8131]], requires_grad=True)\n",
            "tensor([0.1702, 1.1229], requires_grad=True)\n"
          ]
        }
      ]
    },
    {
      "cell_type": "code",
      "source": [
        "def model(inputs, weights, bias):\n",
        "  return inputs @ weights.t() + bias"
      ],
      "metadata": {
        "id": "yr4-PVWkEJEh"
      },
      "execution_count": 85,
      "outputs": []
    },
    {
      "cell_type": "code",
      "source": [
        "predictions = model(inputs, weights, bias)"
      ],
      "metadata": {
        "id": "ZFIVLwofICHd"
      },
      "execution_count": 86,
      "outputs": []
    },
    {
      "cell_type": "code",
      "source": [
        "print(predictions)"
      ],
      "metadata": {
        "colab": {
          "base_uri": "https://localhost:8080/"
        },
        "id": "G2dd8seEIGfp",
        "outputId": "989fb853-8464-4281-8ed2-6f3e528b4696"
      },
      "execution_count": 87,
      "outputs": [
        {
          "output_type": "stream",
          "name": "stdout",
          "text": [
            "tensor([[  9.9299, 162.3027],\n",
            "        [ 16.2410, 198.4970],\n",
            "        [  0.4939, 247.0237],\n",
            "        [ 16.1272, 189.6707],\n",
            "        [ 15.0097, 165.3797]], grad_fn=<AddBackward0>)\n"
          ]
        }
      ]
    },
    {
      "cell_type": "code",
      "source": [
        "print(targets)"
      ],
      "metadata": {
        "colab": {
          "base_uri": "https://localhost:8080/"
        },
        "id": "B6gt_tnbIPKw",
        "outputId": "15aba0b1-d6ca-410c-d27b-f2b6fd77ec7d"
      },
      "execution_count": 88,
      "outputs": [
        {
          "output_type": "stream",
          "name": "stdout",
          "text": [
            "tensor([[ 56.,  70.],\n",
            "        [ 81., 101.],\n",
            "        [119., 133.],\n",
            "        [ 22.,  37.],\n",
            "        [103., 119.]])\n"
          ]
        }
      ]
    },
    {
      "cell_type": "code",
      "source": [
        "## now the targets are way different from predictions"
      ],
      "metadata": {
        "id": "NiZ6vTaEIUo8"
      },
      "execution_count": 89,
      "outputs": []
    },
    {
      "cell_type": "markdown",
      "source": [
        "## Loss Function"
      ],
      "metadata": {
        "id": "p05M8HPQIbUe"
      }
    },
    {
      "cell_type": "code",
      "source": [
        "def mseLoss(a, b):\n",
        "  diff = a-b # CALCULATING THE DIFFERENCE\n",
        "  return torch.sum(diff*diff) / diff.numel() # CALCULATING THE MEAN SQUARE DIFFERNECE\n",
        "# here we did the diff*diff -> which multiplies with each element itself which makes it positive bro!"
      ],
      "metadata": {
        "id": "dlb5S7f6IdpR"
      },
      "execution_count": 90,
      "outputs": []
    },
    {
      "cell_type": "code",
      "source": [
        "loss = mseLoss(predictions, targets)"
      ],
      "metadata": {
        "id": "lTefxZFWIpry"
      },
      "execution_count": 91,
      "outputs": []
    },
    {
      "cell_type": "code",
      "source": [
        "print(loss) # will calculate the mean square loss"
      ],
      "metadata": {
        "colab": {
          "base_uri": "https://localhost:8080/"
        },
        "id": "RekhXpnkI1E1",
        "outputId": "e287ab54-5abb-4787-95fd-408e9ae1eaab"
      },
      "execution_count": 92,
      "outputs": [
        {
          "output_type": "stream",
          "name": "stdout",
          "text": [
            "tensor(8462.2910, grad_fn=<DivBackward0>)\n"
          ]
        }
      ]
    },
    {
      "cell_type": "markdown",
      "source": [
        "## Gradients"
      ],
      "metadata": {
        "id": "PG2b2RmMJMez"
      }
    },
    {
      "cell_type": "code",
      "source": [
        "loss.backward()"
      ],
      "metadata": {
        "id": "73EijACWI_Uf"
      },
      "execution_count": 93,
      "outputs": []
    },
    {
      "cell_type": "code",
      "source": [
        "# Gradients for Weights\n",
        "\n",
        "print(weights)\n",
        "print(weights.grad)"
      ],
      "metadata": {
        "colab": {
          "base_uri": "https://localhost:8080/"
        },
        "id": "AQBlhT3dJQAZ",
        "outputId": "70ef3e3d-6256-4d81-9733-749d3c433689"
      },
      "execution_count": 94,
      "outputs": [
        {
          "output_type": "stream",
          "name": "stdout",
          "text": [
            "tensor([[ 0.0919, -0.2702,  0.4919],\n",
            "        [ 1.6818,  1.0951, -0.8131]], requires_grad=True)\n",
            "tensor([[-5247.3140, -6672.9805, -3875.1113],\n",
            "        [ 8860.5986,  8212.0967,  5143.5186]])\n"
          ]
        }
      ]
    },
    {
      "cell_type": "code",
      "source": [
        "with torch.no_grad():\n",
        "  weights = weights - weights.grad*1e-5\n",
        "  bias = bias - bias.grad*1e-5"
      ],
      "metadata": {
        "id": "QF7illQlJW37"
      },
      "execution_count": 95,
      "outputs": []
    },
    {
      "cell_type": "code",
      "source": [
        "# print(weights)"
      ],
      "metadata": {
        "id": "g0FpBxacLRic"
      },
      "execution_count": 96,
      "outputs": []
    },
    {
      "cell_type": "code",
      "source": [
        "# loss = mseLoss(predictions, targets)"
      ],
      "metadata": {
        "id": "ZjwHQhSyLT8B"
      },
      "execution_count": 97,
      "outputs": []
    },
    {
      "cell_type": "code",
      "source": [
        "print(loss)"
      ],
      "metadata": {
        "colab": {
          "base_uri": "https://localhost:8080/"
        },
        "id": "mg48zbJJLf4f",
        "outputId": "42b665f1-71a0-4108-e47d-cb4dc04fb9dd"
      },
      "execution_count": 98,
      "outputs": [
        {
          "output_type": "stream",
          "name": "stdout",
          "text": [
            "tensor(8462.2910, grad_fn=<DivBackward0>)\n"
          ]
        }
      ]
    },
    {
      "cell_type": "code",
      "source": [
        "#\n"
      ],
      "metadata": {
        "id": "Q76XuCLKLgsI"
      },
      "execution_count": 101,
      "outputs": []
    },
    {
      "cell_type": "code",
      "source": [
        ""
      ],
      "metadata": {
        "id": "IDpif-NnL-BO"
      },
      "execution_count": null,
      "outputs": []
    },
    {
      "cell_type": "markdown",
      "source": [
        "Linear Regresssion using Pytorch built in"
      ],
      "metadata": {
        "id": "puJpxhxAMRh8"
      }
    },
    {
      "cell_type": "code",
      "source": [
        "# Input (temp, rainfall, humidity)\n",
        "inputs = np.array([[73, 67, 43],\n",
        "                   [91, 88, 64],\n",
        "                   [87, 134, 58],\n",
        "                   [102, 43, 37],\n",
        "                   [69, 96, 70],\n",
        "                   [74, 66, 43],\n",
        "                   [91, 87, 65],\n",
        "                   [88, 134, 59],\n",
        "                   [101, 44, 37],\n",
        "                   [68, 96, 71],\n",
        "                   [73, 66, 44],\n",
        "                   [92, 87, 64],\n",
        "                   [87, 135, 57],\n",
        "                   [103, 43, 36],\n",
        "                   [68, 97, 70]],\n",
        "                  dtype='float32')\n",
        "\n",
        "# Targets (apples, oranges)\n",
        "targets = np.array([[56, 70],\n",
        "                    [81, 101],\n",
        "                    [119, 133],\n",
        "                    [22, 37],\n",
        "                    [103, 119],\n",
        "                    [57, 69],\n",
        "                    [80, 102],\n",
        "                    [118, 132],\n",
        "                    [21, 38],\n",
        "                    [104, 118],\n",
        "                    [57, 69],\n",
        "                    [82, 100],\n",
        "                    [118, 134],\n",
        "                    [20, 38],\n",
        "                    [102, 120]],\n",
        "                   dtype='float32')\n",
        "\n",
        "inputs = torch.from_numpy(inputs)\n",
        "targets = torch.from_numpy(targets)"
      ],
      "metadata": {
        "id": "xWki6s8_MVRx"
      },
      "execution_count": 100,
      "outputs": []
    },
    {
      "cell_type": "code",
      "source": [
        "from torch.utils.data import TensorDataset as ts"
      ],
      "metadata": {
        "id": "9_5yqPpnMYeP"
      },
      "execution_count": 105,
      "outputs": []
    },
    {
      "cell_type": "code",
      "source": [
        "train_ds = ts(inputs, targets)"
      ],
      "metadata": {
        "id": "SobuZQ1ANHRQ"
      },
      "execution_count": 106,
      "outputs": []
    },
    {
      "cell_type": "code",
      "source": [
        "train_ds[:3] # has the pair of input with the corresponding outputs"
      ],
      "metadata": {
        "colab": {
          "base_uri": "https://localhost:8080/"
        },
        "id": "LZhHVq3HNVvz",
        "outputId": "7d957943-68ce-418b-9c09-8bf36f008a90"
      },
      "execution_count": 108,
      "outputs": [
        {
          "output_type": "execute_result",
          "data": {
            "text/plain": [
              "(tensor([[ 73.,  67.,  43.],\n",
              "         [ 91.,  88.,  64.],\n",
              "         [ 87., 134.,  58.]]),\n",
              " tensor([[ 56.,  70.],\n",
              "         [ 81., 101.],\n",
              "         [119., 133.]]))"
            ]
          },
          "metadata": {},
          "execution_count": 108
        }
      ]
    },
    {
      "cell_type": "code",
      "source": [
        "from torch.utils.data import DataLoader as dl"
      ],
      "metadata": {
        "id": "UM7zHnZqNXw4"
      },
      "execution_count": 109,
      "outputs": []
    },
    {
      "cell_type": "code",
      "source": [
        "batchsize = 4\n",
        "\n",
        "train_dl = dl(train_ds, batchsize, shuffle=True)"
      ],
      "metadata": {
        "id": "QwmWp8w0NhDq"
      },
      "execution_count": 112,
      "outputs": []
    },
    {
      "cell_type": "code",
      "source": [
        "print(train_dl) # now this we have created the data loader which groups the data in batches for easy training"
      ],
      "metadata": {
        "colab": {
          "base_uri": "https://localhost:8080/"
        },
        "id": "ENHiuq2lNlRS",
        "outputId": "3b3d5149-f782-45ad-fe13-39de66267620"
      },
      "execution_count": 113,
      "outputs": [
        {
          "output_type": "stream",
          "name": "stdout",
          "text": [
            "<torch.utils.data.dataloader.DataLoader object at 0x7c2deaf55e40>\n"
          ]
        }
      ]
    },
    {
      "cell_type": "code",
      "source": [
        "# iterating in dataloader\n",
        "for x, y in train_dl:\n",
        "  print('input', x)\n",
        "  print('output', y)\n",
        "  break\n",
        "\n",
        "# now you can see the batch size of it == 4 hehe"
      ],
      "metadata": {
        "colab": {
          "base_uri": "https://localhost:8080/"
        },
        "id": "fxh4lbQENnqg",
        "outputId": "5eb8f64a-7769-4c71-9aa1-27d6b0fa8bb8"
      },
      "execution_count": 117,
      "outputs": [
        {
          "output_type": "stream",
          "name": "stdout",
          "text": [
            "input tensor([[73., 66., 44.],\n",
            "        [68., 96., 71.],\n",
            "        [92., 87., 64.],\n",
            "        [91., 87., 65.]])\n",
            "output tensor([[ 57.,  69.],\n",
            "        [104., 118.],\n",
            "        [ 82., 100.],\n",
            "        [ 80., 102.]])\n"
          ]
        }
      ]
    },
    {
      "cell_type": "markdown",
      "source": [
        "## Defining the model"
      ],
      "metadata": {
        "id": "6_zxvbOpOfE7"
      }
    },
    {
      "cell_type": "code",
      "source": [
        "import torch.nn as nn"
      ],
      "metadata": {
        "id": "iK-eMt3QOsGD"
      },
      "execution_count": 121,
      "outputs": []
    },
    {
      "cell_type": "code",
      "source": [
        "model = nn.Linear(3, 2) # linear model with 3 input weights and 2 outputs"
      ],
      "metadata": {
        "id": "tlvtcTBXOLtq"
      },
      "execution_count": 126,
      "outputs": []
    },
    {
      "cell_type": "code",
      "source": [
        "print(model.weight)"
      ],
      "metadata": {
        "colab": {
          "base_uri": "https://localhost:8080/"
        },
        "id": "sJXnF99YOlKO",
        "outputId": "394f999c-8b74-415d-d21b-9e0c4b85ed75"
      },
      "execution_count": 127,
      "outputs": [
        {
          "output_type": "stream",
          "name": "stdout",
          "text": [
            "Parameter containing:\n",
            "tensor([[ 0.4306,  0.3973,  0.1227],\n",
            "        [-0.5144,  0.3677,  0.1922]], requires_grad=True)\n"
          ]
        }
      ]
    },
    {
      "cell_type": "code",
      "source": [
        "print(model.bias)"
      ],
      "metadata": {
        "colab": {
          "base_uri": "https://localhost:8080/"
        },
        "id": "uycGIO71Vjn5",
        "outputId": "a563f8f6-3641-4ce6-fca5-073be27fbf98"
      },
      "execution_count": 128,
      "outputs": [
        {
          "output_type": "stream",
          "name": "stdout",
          "text": [
            "Parameter containing:\n",
            "tensor([-0.2684,  0.2313], requires_grad=True)\n"
          ]
        }
      ]
    },
    {
      "cell_type": "code",
      "source": [
        "print(model.parameters())"
      ],
      "metadata": {
        "colab": {
          "base_uri": "https://localhost:8080/"
        },
        "id": "4oH8YNgCVkxC",
        "outputId": "5b4e2bee-0683-45e4-e097-fa8eecadcfab"
      },
      "execution_count": 130,
      "outputs": [
        {
          "output_type": "stream",
          "name": "stdout",
          "text": [
            "<generator object Module.parameters at 0x7c2dead28eb0>\n"
          ]
        }
      ]
    },
    {
      "cell_type": "code",
      "source": [
        "preds = model(inputs)"
      ],
      "metadata": {
        "id": "cqMv6t5IVsAZ"
      },
      "execution_count": 131,
      "outputs": []
    },
    {
      "cell_type": "code",
      "source": [
        "print(preds)"
      ],
      "metadata": {
        "colab": {
          "base_uri": "https://localhost:8080/"
        },
        "id": "u9o0wFr-VvAg",
        "outputId": "9af7b19d-c532-43de-c0e9-3f12a0a2fa16"
      },
      "execution_count": 132,
      "outputs": [
        {
          "output_type": "stream",
          "name": "stdout",
          "text": [
            "tensor([[ 63.0607,  -4.4163],\n",
            "        [ 81.7316,  -1.9170],\n",
            "        [ 97.5476,  15.9032],\n",
            "        [ 65.2774, -29.3116],\n",
            "        [ 76.1728,  13.4941],\n",
            "        [ 63.0940,  -5.2984],\n",
            "        [ 81.4571,  -2.0925],\n",
            "        [ 98.1009,  15.5810],\n",
            "        [ 65.2441, -28.4295],\n",
            "        [ 75.8649,  14.2006],\n",
            "        [ 62.7861,  -4.5918],\n",
            "        [ 81.7650,  -2.7991],\n",
            "        [ 97.8221,  16.0788],\n",
            "        [ 65.5853, -30.0182],\n",
            "        [ 76.1394,  14.3762]], grad_fn=<AddmmBackward0>)\n"
          ]
        }
      ]
    },
    {
      "cell_type": "code",
      "source": [],
      "metadata": {
        "id": "rZAtp_zkV1FC"
      },
      "execution_count": null,
      "outputs": []
    },
    {
      "cell_type": "markdown",
      "source": [
        "## Loss Functions"
      ],
      "metadata": {
        "id": "rp_qzrTOV8Xo"
      }
    },
    {
      "cell_type": "code",
      "source": [
        "import torch.nn.functional as F"
      ],
      "metadata": {
        "id": "i72qsy_OV-Z2"
      },
      "execution_count": 133,
      "outputs": []
    },
    {
      "cell_type": "code",
      "source": [
        "loss_fun = F.mse_loss"
      ],
      "metadata": {
        "id": "OoRpfg4KWB-C"
      },
      "execution_count": 135,
      "outputs": []
    },
    {
      "cell_type": "code",
      "source": [
        "loss = loss_fun(model(inputs), targets)"
      ],
      "metadata": {
        "id": "tGWg58H8WHuE"
      },
      "execution_count": 136,
      "outputs": []
    },
    {
      "cell_type": "code",
      "source": [
        "print(loss) # kaafi zaada aa rha hai ye toh"
      ],
      "metadata": {
        "colab": {
          "base_uri": "https://localhost:8080/"
        },
        "id": "aJFiJk4xWhd9",
        "outputId": "9fac301b-3f40-4b26-bcdc-c49e4037952f"
      },
      "execution_count": 138,
      "outputs": [
        {
          "output_type": "stream",
          "name": "stdout",
          "text": [
            "tensor(4853.7632, grad_fn=<MseLossBackward0>)\n"
          ]
        }
      ]
    },
    {
      "cell_type": "code",
      "source": [
        "# Define optimizer\n",
        "opt = torch.optim.SGD(model.parameters(), lr=1e-5) ## ye hai ek optimizer jisse batches mein aate hai naaki poore aati hai cheezein"
      ],
      "metadata": {
        "id": "AXZTHiLIWmML"
      },
      "execution_count": 140,
      "outputs": []
    },
    {
      "cell_type": "code",
      "source": [
        "def fit(num_epoch, model, loss_fun, opt, train_dl):\n",
        "  for epoch in range(num_epoch):\n",
        "\n",
        "    for x, y in train_dl:\n",
        "\n",
        "\n",
        "      pred = model(x)\n",
        "      loss = loss_fun(pred, y)\n",
        "\n",
        "      # Compute the gradient\n",
        "      loss.backward()\n",
        "      opt.step() ## Update the parameters using gradients\n",
        "      opt.zero_grad() ## Reset the gradients\n",
        "\n",
        "    if (epoch+1)%10 == 0:\n",
        "      print('Epoch [{}/{}], Loss: {:.4f}'.format(epoch+1, num_epoch, loss.item()))\n"
      ],
      "metadata": {
        "id": "gZn5zB_WWsK3"
      },
      "execution_count": 142,
      "outputs": []
    },
    {
      "cell_type": "code",
      "source": [
        "fit(500, model, loss_fun, opt, train_dl)"
      ],
      "metadata": {
        "colab": {
          "base_uri": "https://localhost:8080/"
        },
        "id": "LTjbhvMGX23m",
        "outputId": "5c069923-eda3-47b8-c532-e3a2b4d55801"
      },
      "execution_count": 145,
      "outputs": [
        {
          "output_type": "stream",
          "name": "stdout",
          "text": [
            "Epoch [10/500], Loss: 0.9325\n",
            "Epoch [20/500], Loss: 1.0349\n",
            "Epoch [30/500], Loss: 0.9695\n",
            "Epoch [40/500], Loss: 1.4352\n",
            "Epoch [50/500], Loss: 1.4363\n",
            "Epoch [60/500], Loss: 0.9396\n",
            "Epoch [70/500], Loss: 0.9646\n",
            "Epoch [80/500], Loss: 0.8911\n",
            "Epoch [90/500], Loss: 1.0686\n",
            "Epoch [100/500], Loss: 1.4158\n",
            "Epoch [110/500], Loss: 0.7495\n",
            "Epoch [120/500], Loss: 1.0795\n",
            "Epoch [130/500], Loss: 0.9165\n",
            "Epoch [140/500], Loss: 0.6425\n",
            "Epoch [150/500], Loss: 1.0374\n",
            "Epoch [160/500], Loss: 0.9677\n",
            "Epoch [170/500], Loss: 0.9948\n",
            "Epoch [180/500], Loss: 0.8527\n",
            "Epoch [190/500], Loss: 1.1650\n",
            "Epoch [200/500], Loss: 1.3377\n",
            "Epoch [210/500], Loss: 1.5873\n",
            "Epoch [220/500], Loss: 1.3726\n",
            "Epoch [230/500], Loss: 0.7121\n",
            "Epoch [240/500], Loss: 1.5623\n",
            "Epoch [250/500], Loss: 1.6495\n",
            "Epoch [260/500], Loss: 0.6739\n",
            "Epoch [270/500], Loss: 1.1712\n",
            "Epoch [280/500], Loss: 0.7994\n",
            "Epoch [290/500], Loss: 0.7527\n",
            "Epoch [300/500], Loss: 1.5964\n",
            "Epoch [310/500], Loss: 0.9407\n",
            "Epoch [320/500], Loss: 1.2737\n",
            "Epoch [330/500], Loss: 1.4052\n",
            "Epoch [340/500], Loss: 1.0301\n",
            "Epoch [350/500], Loss: 1.0182\n",
            "Epoch [360/500], Loss: 0.7173\n",
            "Epoch [370/500], Loss: 0.8596\n",
            "Epoch [380/500], Loss: 1.0359\n",
            "Epoch [390/500], Loss: 1.5763\n",
            "Epoch [400/500], Loss: 0.9975\n",
            "Epoch [410/500], Loss: 1.7926\n",
            "Epoch [420/500], Loss: 0.7223\n",
            "Epoch [430/500], Loss: 1.6455\n",
            "Epoch [440/500], Loss: 1.1603\n",
            "Epoch [450/500], Loss: 1.0028\n",
            "Epoch [460/500], Loss: 0.7930\n",
            "Epoch [470/500], Loss: 0.7411\n",
            "Epoch [480/500], Loss: 0.8236\n",
            "Epoch [490/500], Loss: 1.0133\n",
            "Epoch [500/500], Loss: 0.9330\n"
          ]
        }
      ]
    },
    {
      "cell_type": "code",
      "source": [
        "preds = model(inputs)"
      ],
      "metadata": {
        "id": "M962RNpUYHG3"
      },
      "execution_count": 148,
      "outputs": []
    },
    {
      "cell_type": "code",
      "source": [
        "print(preds)\n",
        "\n",
        "print(targets )"
      ],
      "metadata": {
        "colab": {
          "base_uri": "https://localhost:8080/"
        },
        "id": "QWV-iKlcYUpY",
        "outputId": "128d4539-6400-414a-e9c0-38e27013c996"
      },
      "execution_count": 153,
      "outputs": [
        {
          "output_type": "stream",
          "name": "stdout",
          "text": [
            "tensor([[ 56.9172,  70.4917],\n",
            "        [ 82.0746, 100.5816],\n",
            "        [118.2206, 132.8764],\n",
            "        [ 20.8365,  37.8201],\n",
            "        [101.8647, 118.5596],\n",
            "        [ 55.6728,  69.4118],\n",
            "        [ 81.9329, 100.6752],\n",
            "        [118.5189, 133.4755],\n",
            "        [ 22.0809,  38.9000],\n",
            "        [102.9675, 119.7332],\n",
            "        [ 56.7756,  70.5853],\n",
            "        [ 80.8301,  99.5017],\n",
            "        [118.3623, 132.7827],\n",
            "        [ 19.7337,  36.6466],\n",
            "        [103.1091, 119.6395]], grad_fn=<AddmmBackward0>)\n",
            "tensor([[ 56.,  70.],\n",
            "        [ 81., 101.],\n",
            "        [119., 133.],\n",
            "        [ 22.,  37.],\n",
            "        [103., 119.],\n",
            "        [ 57.,  69.],\n",
            "        [ 80., 102.],\n",
            "        [118., 132.],\n",
            "        [ 21.,  38.],\n",
            "        [104., 118.],\n",
            "        [ 57.,  69.],\n",
            "        [ 82., 100.],\n",
            "        [118., 134.],\n",
            "        [ 20.,  38.],\n",
            "        [102., 120.]])\n"
          ]
        }
      ]
    },
    {
      "cell_type": "code",
      "source": [],
      "metadata": {
        "id": "JoSko0hNYW2t"
      },
      "execution_count": null,
      "outputs": []
    }
  ]
}